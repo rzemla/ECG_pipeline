{
 "cells": [
  {
   "cell_type": "code",
   "execution_count": 3,
   "metadata": {},
   "outputs": [],
   "source": [
    "import pandas as pd\n",
    "import PyPDF2\n",
    "import numpy as np\n",
    "import math\n",
    "from extractors.abstract_extractor import AbstractExractor\n",
    "from utils.data.visualisation import visualiseIndividualfromDF, visualiseIndividualinMPL\n",
    "from utils.extract_utils.extract_utils import rotate_origin_only, move_along_the_axis, scale_values_based_on_eich_peak, \\\n",
    "    create_measurement_points, adjust_leads_baseline, preprocess_page_content, extract_graphics_string\n",
    "from utils.misc.datastructure import perform_shape_switch\n",
    "from tools.extraction_tools import extract_PDF_raw, extract_leads_numeric\n",
    "import logging\n",
    "from tqdm import tqdm\n",
    "import os\n",
    "import matplotlib.pyplot as plt"
   ]
  },
  {
   "cell_type": "markdown",
   "metadata": {},
   "source": [
    "<font color='yellow'>*Import leads from PDF EKG as numeric values*</font>\n"
   ]
  },
  {
   "cell_type": "code",
   "execution_count": null,
   "metadata": {},
   "outputs": [],
   "source": [
    "# reference value for the calibration jag\n",
    "cal_ref = 1000\n",
    "\n",
    "# extracted height for the calibration jag in PDF (extract pixel height from PDF)\n",
    "#orginal provided measurement from codebase 28.34800000000001 (height that is read in via pdf reader)\n",
    "#extracted by measuring pixel height in Illustrator (28.35)\n",
    "cal_height = 1000 #height that is read in with pdf reader with our EKG pdfs\n",
    "\n",
    "\n",
    "# factor for scaling (effectively gamma = 1 based on read in structure from GE EKGs)\n",
    "gamma = cal_ref / cal_height\n",
    "\n",
    "# name of the leads\n",
    "lead_names_short = ['I', 'II', 'III', 'aVR', 'aVL', 'aVF', 'V1', 'V2', 'V3', 'V4', 'V5', 'V6']\n",
    "lead_names_long = ['V1','II',\"V5\"]\n",
    "\n",
    "#source data\n",
    "path_source = os.getcwd()\n",
    "data_source = 'data_test\\\\EKG_131515-20_0.pdf'\n",
    "#data_source = 'data_test\\\\EKG_131515-33_0.pdf'\n",
    "filename = os.path.join(path_source, data_source)\n",
    "\n",
    "#Extract raw PDF data from source file\n",
    "pdf_object = extract_PDF_raw(filename)\n",
    "\n",
    "\n",
    "#define dict with index ranges for graphics object corresponding to leads/cal marker\n",
    "range_list = {\n",
    "    #range of lead extraction (short leads)\n",
    "    'start_idx': 412,\n",
    "    'end_idx'  : 423,\n",
    "    #range of lead extraction (long leads)\n",
    "    'start_idx_long': 427,\n",
    "    'end_idx_long': 429,\n",
    "    #calibration marker index\n",
    "    'cal_idx' : 424\n",
    "}\n",
    "\n",
    "#Extract numeric x,y points for each lead \n",
    "lead_numeric = extract_leads_numeric(range_list,pdf_object)\n"
   ]
  },
  {
   "cell_type": "markdown",
   "metadata": {},
   "source": [
    "<font color='yellow'>*Shift all traces to start at origin*</font>"
   ]
  },
  {
   "cell_type": "code",
   "execution_count": null,
   "metadata": {},
   "outputs": [],
   "source": [
    "new_lead = move_along_the_axis(tmp_lead)\n",
    "\n",
    "#Scale the y coordinates per gamma factor ()\n",
    "new_lead_list = []\n",
    "for xy_pair in lead_list:\n",
    "    new_y_value = xy_pair[1] * gamma\n",
    "    new_lead_list.append([xy_pair[0], new_y_value])\n",
    "return new_lead_list\n",
    "\n",
    "#save np array as CSV\n",
    "#np.savetxt(\"v5_exp.csv\", v5_xy_arr, delimiter=\",\")"
   ]
  },
  {
   "cell_type": "markdown",
   "metadata": {},
   "source": [
    "<font color='yellow'>*Plot traces for each lead*</font>"
   ]
  },
  {
   "cell_type": "code",
   "execution_count": null,
   "metadata": {},
   "outputs": [],
   "source": [
    "#Plot x,y traces of each lead in discovery run\n",
    "fig, ax = plt.subplots()\n",
    "\n",
    "lead_idx = 3\n",
    "ax.plot(lead_numeric[lead_idx][:,0], lead_numeric[lead_idx][:,1], markeredgewidth=2)\n",
    "plt.show()\n",
    "\n",
    "#ax.set(xlim=(0, 8), xticks=np.arange(1, 8),\n",
    "#       ylim=(0, 8), yticks=np.arange(1, 8))"
   ]
  }
 ],
 "metadata": {
  "kernelspec": {
   "display_name": "ecg_pipeline",
   "language": "python",
   "name": "python3"
  },
  "language_info": {
   "codemirror_mode": {
    "name": "ipython",
    "version": 3
   },
   "file_extension": ".py",
   "mimetype": "text/x-python",
   "name": "python",
   "nbconvert_exporter": "python",
   "pygments_lexer": "ipython3",
   "version": "3.8.19"
  }
 },
 "nbformat": 4,
 "nbformat_minor": 2
}
