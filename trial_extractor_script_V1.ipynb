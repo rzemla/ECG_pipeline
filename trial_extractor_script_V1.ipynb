{
 "cells": [
  {
   "cell_type": "code",
   "execution_count": 25,
   "metadata": {},
   "outputs": [],
   "source": [
    "import pandas as pd\n",
    "import PyPDF2\n",
    "import numpy as np\n",
    "import math\n",
    "from extractors.abstract_extractor import AbstractExractor\n",
    "from utils.data.visualisation import visualiseIndividualfromDF, visualiseIndividualinMPL\n",
    "from utils.misc.datastructure import perform_shape_switch\n",
    "from tools.extraction_tools import extract_PDF_raw, extract_leads_numeric, move_trace_to_origin, scale_values_using_cal_mark, \\\n",
    "    create_measurement_points, perform_shape_switch, adjust_leads_baseline\n",
    "import logging\n",
    "from tqdm import tqdm\n",
    "import os\n",
    "import matplotlib.pyplot as plt\n",
    "\n",
    "from bokeh.plotting import figure, show\n",
    "from bokeh.io import output_notebook\n"
   ]
  },
  {
   "cell_type": "markdown",
   "metadata": {},
   "source": [
    "<font color='green'>**Import leads from PDF EKG as numeric values**</font>\n"
   ]
  },
  {
   "cell_type": "code",
   "execution_count": 4,
   "metadata": {},
   "outputs": [],
   "source": [
    "# reference value for the calibration jag\n",
    "cal_ref = 1000\n",
    "\n",
    "# extracted height for the calibration jag in PDF (extract pixel height from PDF)\n",
    "#orginal provided measurement from codebase 28.34800000000001 (height that is read in via pdf reader)\n",
    "#extracted by measuring pixel height in Illustrator (28.35)\n",
    "cal_height = 1000 #height that is read in with pdf reader with our EKG pdfs\n",
    "\n",
    "\n",
    "# factor for scaling (effectively gamma = 1 based on read in structure from GE EKGs)\n",
    "gamma = cal_ref / cal_height\n",
    "\n",
    "# name of the leads\n",
    "lead_names_short = ['I', 'II', 'III', 'aVR', 'aVL', 'aVF', 'V1', 'V2', 'V3', 'V4', 'V5', 'V6']\n",
    "lead_names_long = ['V1','II',\"V5\"]\n",
    "\n",
    "#source data\n",
    "path_source = os.getcwd()\n",
    "#data_source = 'data_test\\\\EKG_131515-20_0.pdf'\n",
    "#data_source = 'data_test\\\\EKG_131515-33_0.pdf'\n",
    "data_source = 'data_test\\\\EKG_131515-119_0.pdf'\n",
    "\n",
    "filename = os.path.join(path_source, data_source)\n",
    "\n",
    "#Extract raw PDF data from source file\n",
    "pdf_object = extract_PDF_raw(filename)\n",
    "\n",
    "\n",
    "#define dict with index ranges for graphics object corresponding to leads/cal marker\n",
    "range_list = {\n",
    "    #range of lead extraction (short leads)\n",
    "    'start_idx': 412,\n",
    "    'end_idx'  : 423,\n",
    "    #range of lead extraction (long leads)\n",
    "    'start_idx_long': 427,\n",
    "    'end_idx_long': 429,\n",
    "    #calibration marker index\n",
    "    'cal_idx' : 424\n",
    "}\n",
    "\n",
    "#Extract numeric x,y points for each lead \n",
    "lead_numeric = extract_leads_numeric(range_list,pdf_object)\n",
    "\n",
    "#Shift traces to common origin\n",
    "shift_leads = list(map(move_trace_to_origin, lead_numeric))\n",
    "\n",
    "#Scale leads by gamma factor (gamma = 1 for current EKG PDFs)\n",
    "scale_shift_leads = [scale_values_using_cal_mark(l, gamma) for l in shift_leads]\n",
    "\n",
    "#convert traces to by linear interpolation to timepoints along sampling frequency (500 Hz)\n",
    "#for 2.5s strips (500Hz acquisition freq for 2.5s)\n",
    "sample_points = 1250\n",
    "leads_upsampled = [create_measurement_points(l, sample_points) for l in scale_shift_leads[0:12]]\n",
    "\n",
    "#for 10s strips (500Hz acquisition frq for 10s)\n",
    "sample_points = 5000\n",
    "leads_upsampled.extend([create_measurement_points(l, sample_points) for l in scale_shift_leads[13:16]])\n",
    "\n",
    "# Convert short lead list to dataframe\n",
    "df_leads = pd.DataFrame(perform_shape_switch(leads_upsampled[0:12]), columns=lead_names_short)\n",
    "\n",
    "# Adjust baseline position of each lead\n",
    "df_leads = adjust_leads_baseline(df_leads)\n"
   ]
  },
  {
   "cell_type": "markdown",
   "metadata": {},
   "source": [
    "<font color='green'>**Plot traces for each lead**</font>"
   ]
  },
  {
   "cell_type": "code",
   "execution_count": 23,
   "metadata": {},
   "outputs": [
    {
     "data": {
      "image/png": "[encoded data removed]",
      "text/plain": [
       "<Figure size 640x480 with 1 Axes>"
      ]
     },
     "metadata": {},
     "output_type": "display_data"
    }
   ],
   "source": [
    "#Voltage scale\n",
    "#1000 points = 10 mm = 10cm = 1 mV => 1 point = 0.001 mV\n",
    "#10 mm/mV ==> 25 mm = 2.5 mV = 2500 points\n",
    "voltage_arr = df_leads['V3']*0.001\n",
    "\n",
    "#Time scale\n",
    "#1250 points = 2.5s ==> 1 point = 0.002s\n",
    "#25 mm/s =  25 mm = 1 s 500 points \n",
    "#1mm = 0.04s \n",
    "time_arr = np.arange(0, 2.500, 0.002)\n",
    "\n",
    "#Dell P3421W\n",
    "#109 PPI \n",
    "#43 ppcm\n",
    "#pixel_pitch = 0.2325 mm\n",
    "#107.52 pixels = 25 mm = 1s\n",
    "\n",
    "#Voltage/time aspect ration for 25 mm/s speed ()\n",
    "aspect_ratio = 0.5\n",
    "\n",
    "#Plot origin shifted traces\n",
    "fig, ax = plt.subplots()\n",
    "ax.plot(time_arr,voltage_arr)\n",
    "ax.set_aspect(aspect_ratio)\n",
    "plt.show()\n",
    "\n",
    "#ax.set(xlim=(0, 8), xticks=np.arange(1, 8),\n",
    "#       ylim=(0, 8), yticks=np.arange(1, 8))"
   ]
  },
  {
   "cell_type": "markdown",
   "metadata": {},
   "source": [
    "<font color='green'>**Interactive plots**</font>"
   ]
  },
  {
   "cell_type": "code",
   "execution_count": 26,
   "metadata": {},
   "outputs": [],
   "source": [
    "p = figure(width=400, height=400)\n",
    "\n",
    "# add a line renderer with NaN values\n",
    "p.line(time_arr, voltage_arr, line_width=2)\n",
    "\n",
    "show(p)"
   ]
  }
 ],
 "metadata": {
  "kernelspec": {
   "display_name": "ecg_pipeline",
   "language": "python",
   "name": "python3"
  },
  "language_info": {
   "codemirror_mode": {
    "name": "ipython",
    "version": 3
   },
   "file_extension": ".py",
   "mimetype": "text/x-python",
   "name": "python",
   "nbconvert_exporter": "python",
   "pygments_lexer": "ipython3",
   "version": "3.8.19"
  }
 },
 "nbformat": 4,
 "nbformat_minor": 2
}
