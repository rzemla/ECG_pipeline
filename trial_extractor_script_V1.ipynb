{
 "cells": [
  {
   "cell_type": "code",
   "execution_count": 12,
   "metadata": {},
   "outputs": [
    {
     "ename": "ImportError",
     "evalue": "cannot import name 'scale_values_using_cal_mar' from 'tools.extraction_tools' (c:\\Users\\rzeml\\ECG_pipeline\\tools\\extraction_tools.py)",
     "output_type": "error",
     "traceback": [
      "\u001b[1;31m---------------------------------------------------------------------------\u001b[0m",
      "\u001b[1;31mImportError\u001b[0m                               Traceback (most recent call last)",
      "Cell \u001b[1;32mIn[12], line 10\u001b[0m\n\u001b[0;32m      7\u001b[0m \u001b[38;5;28;01mfrom\u001b[39;00m \u001b[38;5;21;01mutils\u001b[39;00m\u001b[38;5;21;01m.\u001b[39;00m\u001b[38;5;21;01mextract_utils\u001b[39;00m\u001b[38;5;21;01m.\u001b[39;00m\u001b[38;5;21;01mextract_utils\u001b[39;00m \u001b[38;5;28;01mimport\u001b[39;00m rotate_origin_only, move_along_the_axis, scale_values_based_on_eich_peak, \\\n\u001b[0;32m      8\u001b[0m     create_measurement_points, adjust_leads_baseline, preprocess_page_content, extract_graphics_string\n\u001b[0;32m      9\u001b[0m \u001b[38;5;28;01mfrom\u001b[39;00m \u001b[38;5;21;01mutils\u001b[39;00m\u001b[38;5;21;01m.\u001b[39;00m\u001b[38;5;21;01mmisc\u001b[39;00m\u001b[38;5;21;01m.\u001b[39;00m\u001b[38;5;21;01mdatastructure\u001b[39;00m \u001b[38;5;28;01mimport\u001b[39;00m perform_shape_switch\n\u001b[1;32m---> 10\u001b[0m \u001b[38;5;28;01mfrom\u001b[39;00m \u001b[38;5;21;01mtools\u001b[39;00m\u001b[38;5;21;01m.\u001b[39;00m\u001b[38;5;21;01mextraction_tools\u001b[39;00m \u001b[38;5;28;01mimport\u001b[39;00m extract_PDF_raw, extract_leads_numeric, move_trace_to_origin, scale_values_using_cal_mar\n\u001b[0;32m     11\u001b[0m \u001b[38;5;28;01mimport\u001b[39;00m \u001b[38;5;21;01mlogging\u001b[39;00m\n\u001b[0;32m     12\u001b[0m \u001b[38;5;28;01mfrom\u001b[39;00m \u001b[38;5;21;01mtqdm\u001b[39;00m \u001b[38;5;28;01mimport\u001b[39;00m tqdm\n",
      "\u001b[1;31mImportError\u001b[0m: cannot import name 'scale_values_using_cal_mar' from 'tools.extraction_tools' (c:\\Users\\rzeml\\ECG_pipeline\\tools\\extraction_tools.py)"
     ]
    }
   ],
   "source": [
    "import pandas as pd\n",
    "import PyPDF2\n",
    "import numpy as np\n",
    "import math\n",
    "from extractors.abstract_extractor import AbstractExractor\n",
    "from utils.data.visualisation import visualiseIndividualfromDF, visualiseIndividualinMPL\n",
    "from utils.extract_utils.extract_utils import rotate_origin_only, move_along_the_axis, scale_values_based_on_eich_peak, \\\n",
    "    create_measurement_points, adjust_leads_baseline, preprocess_page_content, extract_graphics_string\n",
    "from utils.misc.datastructure import perform_shape_switch\n",
    "from tools.extraction_tools import extract_PDF_raw, extract_leads_numeric, move_trace_to_origin, scale_values_using_cal_mark\n",
    "import logging\n",
    "from tqdm import tqdm\n",
    "import os\n",
    "import matplotlib.pyplot as plt"
   ]
  },
  {
   "cell_type": "markdown",
   "metadata": {},
   "source": [
    "<font color='green'>**Import leads from PDF EKG as numeric values**</font>\n"
   ]
  },
  {
   "cell_type": "code",
   "execution_count": 11,
   "metadata": {},
   "outputs": [
    {
     "name": "stderr",
     "output_type": "stream",
     "text": [
      "PdfReadWarning: Superfluous whitespace found in object header b'5' b'0' [pdf.py:1665]\n"
     ]
    }
   ],
   "source": [
    "# reference value for the calibration jag\n",
    "cal_ref = 1000\n",
    "\n",
    "# extracted height for the calibration jag in PDF (extract pixel height from PDF)\n",
    "#orginal provided measurement from codebase 28.34800000000001 (height that is read in via pdf reader)\n",
    "#extracted by measuring pixel height in Illustrator (28.35)\n",
    "cal_height = 1000 #height that is read in with pdf reader with our EKG pdfs\n",
    "\n",
    "\n",
    "# factor for scaling (effectively gamma = 1 based on read in structure from GE EKGs)\n",
    "gamma = cal_ref / cal_height\n",
    "\n",
    "# name of the leads\n",
    "lead_names_short = ['I', 'II', 'III', 'aVR', 'aVL', 'aVF', 'V1', 'V2', 'V3', 'V4', 'V5', 'V6']\n",
    "lead_names_long = ['V1','II',\"V5\"]\n",
    "\n",
    "#source data\n",
    "path_source = os.getcwd()\n",
    "data_source = 'data_test\\\\EKG_131515-20_0.pdf'\n",
    "#data_source = 'data_test\\\\EKG_131515-33_0.pdf'\n",
    "filename = os.path.join(path_source, data_source)\n",
    "\n",
    "#Extract raw PDF data from source file\n",
    "pdf_object = extract_PDF_raw(filename)\n",
    "\n",
    "\n",
    "#define dict with index ranges for graphics object corresponding to leads/cal marker\n",
    "range_list = {\n",
    "    #range of lead extraction (short leads)\n",
    "    'start_idx': 412,\n",
    "    'end_idx'  : 423,\n",
    "    #range of lead extraction (long leads)\n",
    "    'start_idx_long': 427,\n",
    "    'end_idx_long': 429,\n",
    "    #calibration marker index\n",
    "    'cal_idx' : 424\n",
    "}\n",
    "\n",
    "#Extract numeric x,y points for each lead \n",
    "lead_numeric = extract_leads_numeric(range_list,pdf_object)\n",
    "\n",
    "#Shift traces to common origin\n",
    "shift_leads = list(map(move_trace_to_origin, lead_numeric))\n",
    "\n",
    "#Scale leads by gamma factor (gamma = 1 for current EKG PDFs)\n",
    "scale_shift_leads = [scale_values_using_cal_mark(l, gamma) for l in shift_leads]"
   ]
  },
  {
   "cell_type": "code",
   "execution_count": 7,
   "metadata": {},
   "outputs": [],
   "source": [
    "#save np array as CSV\n",
    "#np.savetxt(\"v5_exp.csv\", v5_xy_arr, delimiter=\",\")"
   ]
  },
  {
   "cell_type": "markdown",
   "metadata": {},
   "source": [
    "<font color='green'>**Plot traces for each lead**</font>"
   ]
  },
  {
   "cell_type": "code",
   "execution_count": null,
   "metadata": {},
   "outputs": [],
   "source": [
    "#Plot origin shifted traces\n",
    "fig, ax = plt.subplots()\n",
    "\n",
    "new_lead_list = np.array(new_lead_list)\n",
    "ax.plot(new_lead_list[:,0], new_lead_list[:,1], markeredgewidth=2)\n",
    "plt.show()\n",
    "\n",
    "\n",
    "#Plot x,y traces of each lead in discovery run\n",
    "fig, ax = plt.subplots()\n",
    "\n",
    "lead_idx = 3\n",
    "ax.plot(lead_numeric[lead_idx][:,0], lead_numeric[lead_idx][:,1], markeredgewidth=2)\n",
    "plt.show()\n",
    "\n",
    "#ax.set(xlim=(0, 8), xticks=np.arange(1, 8),\n",
    "#       ylim=(0, 8), yticks=np.arange(1, 8))"
   ]
  }
 ],
 "metadata": {
  "kernelspec": {
   "display_name": "ecg_pipeline",
   "language": "python",
   "name": "python3"
  },
  "language_info": {
   "codemirror_mode": {
    "name": "ipython",
    "version": 3
   },
   "file_extension": ".py",
   "mimetype": "text/x-python",
   "name": "python",
   "nbconvert_exporter": "python",
   "pygments_lexer": "ipython3",
   "version": "3.8.19"
  }
 },
 "nbformat": 4,
 "nbformat_minor": 2
}
