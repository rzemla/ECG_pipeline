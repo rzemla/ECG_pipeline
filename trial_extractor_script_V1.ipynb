{
 "cells": [
  {
   "cell_type": "code",
   "execution_count": 25,
   "metadata": {},
   "outputs": [],
   "source": [
    "import pandas as pd\n",
    "import PyPDF2\n",
    "import numpy as np\n",
    "import math\n",
    "from extractors.abstract_extractor import AbstractExractor\n",
    "from utils.data.visualisation import visualiseIndividualfromDF, visualiseIndividualinMPL\n",
    "from utils.extract_utils.extract_utils import rotate_origin_only, move_along_the_axis, scale_values_based_on_eich_peak, \\\n",
    "    create_measurement_points, adjust_leads_baseline, preprocess_page_content, extract_graphics_string\n",
    "from utils.misc.datastructure import perform_shape_switch\n",
    "import logging\n",
    "from tqdm import tqdm\n",
    "import os"
   ]
  },
  {
   "cell_type": "markdown",
   "metadata": {},
   "source": []
  },
  {
   "cell_type": "code",
   "execution_count": 28,
   "metadata": {},
   "outputs": [
    {
     "name": "stderr",
     "output_type": "stream",
     "text": [
      "PdfReadWarning: Superfluous whitespace found in object header b'5' b'0' [pdf.py:1665]\n"
     ]
    }
   ],
   "source": [
    "# reference value for the calibration jag\n",
    "eich_ref = 1000\n",
    "\n",
    "# extracted height for the calibration jag in PDF\n",
    "eichzacke = 28.34800000000001\n",
    "\n",
    "# factor for scaling\n",
    "gamma = eich_ref / eichzacke\n",
    "\n",
    "# name of the leads\n",
    "lead_names = ['I', 'II', 'III', 'aVR', 'aVL', 'aVF', 'V1', 'V2', 'V3', 'V4', 'V5', 'V6']\n",
    "\n",
    "#source data\n",
    "path_source = os.getcwd()\n",
    "filename = os.path.join(path_source, 'data_test\\\\EKG_131515-20_0.pdf')\n",
    "\n",
    "#Extract leads\n",
    "#lead_list = extract_leads_from_pdf(file_name)\n",
    "\n",
    "reader = PyPDF2.PdfFileReader(open(filename, 'rb'))\n",
    "\n",
    "num_pages = reader.getNumPages()\n",
    "pg1 = reader.getPage(0).getContents()._data\n",
    "\n",
    "#convert pdf hex symptoms to string of Latin-1 endoded bytes (each character= 1 byte) \n",
    "pg1 = preprocess_page_content(pg1)\n",
    "\n",
    "#split series of PDF converted to strings to list of objects\n",
    "pg1_objects = (pg1).split('S')\n",
    "\n",
    "#v5 trace object\n",
    "v5_lead_object = pg1_objects[423]\n",
    "#remove m(mark?) and l (line?) markers in PDF\n",
    "v5_lead_raw = v5_lead_object.replace(' l', '').replace(' m', '')\n",
    "#split each sample by newline\n",
    "v5_lead_raw = v5_lead_raw.split('\\n')\n",
    "\n",
    "#split x and y coordinate into separate columns\n",
    "v5_xy_col = []\n",
    "\n",
    "for r in v5_lead_raw[2:-1]:\n",
    "    #get coordinates as string\n",
    "    tmp_xy = r.split(' ')\n",
    "    #cast string x,y coordinates as int\n",
    "    tmp_xy = [int(i) for i in tmp_xy]\n",
    "    #append to trace array\n",
    "    v5_xy_col.append(tmp_xy)\n",
    "\n",
    "v5_xy_arr = np.array(v5_xy_col)\n",
    "\n",
    "#save np array as CSV\n",
    "np.savetxt(\"v5_exp.csv\", v5_xy_arr, delimiter=\",\")\n",
    "\n",
    "\n"
   ]
  },
  {
   "cell_type": "code",
   "execution_count": 31,
   "metadata": {},
   "outputs": [],
   "source": [
    "#calibration_marker\n",
    "cal_mark =pg1_objects[425]\n",
    "#remove m(mark?) and l (line?) markers in PDF\n",
    "cal_mark = cal_mark.replace(' l', '').replace(' m', '')\n",
    "#split each sample by newline\n",
    "cal_mark = cal_mark.split('\\n')\n",
    "\n",
    "cal_xy = []\n",
    "for r in cal_mark[1:-1]:\n",
    "    #get coordinates as string\n",
    "    tmp_cal_xy = r.split(' ')\n",
    "    #cast string x,y coordinates as int\n",
    "    tmp_cal_xy = [int(i) for i in tmp_cal_xy]\n",
    "    #append to trace array\n",
    "    cal_xy.append(tmp_cal_xy)\n",
    "\n",
    "cal_xy_arr = np.array(cal_xy)\n",
    "\n",
    "#save np array as CSV\n",
    "np.savetxt(\"cal_xy.csv\", cal_xy_arr, delimiter=\",\")\n"
   ]
  },
  {
   "cell_type": "code",
   "execution_count": 65,
   "metadata": {},
   "outputs": [],
   "source": [
    "    def collectLeads(graphicsstring, lower=7, upper=18):\n",
    "        leads = []\n",
    "        leads_raw = graphicsstring[0].split('C')\n",
    "\n",
    "        for z in leads_raw[lower:upper: 2]:\n",
    "            tmp = str(z).split('\\n')\n",
    "\n",
    "            lead = []\n",
    "            for p in tmp:\n",
    "                coordinates = p.split(' ')\n",
    "                if len(coordinates) == 2:\n",
    "                    lead.append(coordinates)\n",
    "\n",
    "            lead = np.array(lead)\n",
    "            leads.append(lead)\n",
    "\n",
    "        return leads, leads_raw "
   ]
  },
  {
   "cell_type": "code",
   "execution_count": 66,
   "metadata": {},
   "outputs": [
    {
     "ename": "NameError",
     "evalue": "name 'self' is not defined",
     "output_type": "error",
     "traceback": [
      "\u001b[1;31m---------------------------------------------------------------------------\u001b[0m",
      "\u001b[1;31mNameError\u001b[0m                                 Traceback (most recent call last)",
      "Cell \u001b[1;32mIn[66], line 1\u001b[0m\n\u001b[1;32m----> 1\u001b[0m reader \u001b[38;5;241m=\u001b[39m PyPDF2\u001b[38;5;241m.\u001b[39mPdfFileReader(\u001b[38;5;28mopen\u001b[39m(\u001b[38;5;28;43mself\u001b[39;49m\u001b[38;5;241m.\u001b[39mpath_source \u001b[38;5;241m+\u001b[39m filename, \u001b[38;5;124m'\u001b[39m\u001b[38;5;124mrb\u001b[39m\u001b[38;5;124m'\u001b[39m))\n\u001b[0;32m      3\u001b[0m num_pages \u001b[38;5;241m=\u001b[39m reader\u001b[38;5;241m.\u001b[39mgetNumPages()\n\u001b[0;32m      4\u001b[0m \u001b[38;5;28;01mif\u001b[39;00m num_pages \u001b[38;5;241m==\u001b[39m \u001b[38;5;241m3\u001b[39m:\n",
      "\u001b[1;31mNameError\u001b[0m: name 'self' is not defined"
     ]
    }
   ],
   "source": [
    "\n",
    "    \n",
    "        reader = PyPDF2.PdfFileReader(open(self.path_source + filename, 'rb'))\n",
    "\n",
    "        num_pages = reader.getNumPages()\n",
    "        if num_pages == 3:\n",
    "            pg1 = reader.getPage(1).getContents()._data\n",
    "            pg2 = reader.getPage(2).getContents()._data\n",
    "        else:\n",
    "            pg1 = reader.getPage(0).getContents()._data\n",
    "            pg2 = reader.getPage(1).getContents()._data\n",
    "        pg1 = preprocess_page_content(pg1)\n",
    "        pg1 = extract_graphics_string(pg1)\n",
    "        pg2 = preprocess_page_content(pg2)\n",
    "        pg2 = extract_graphics_string(pg2)\n",
    "\n",
    "        leads1 = self.collectLeads(pg1, 7, 18)\n",
    "        leads2 = self.collectLeads(pg2, 7, 18)\n",
    "        leads = leads1 + leads2\n",
    "\n",
    "        correct_extracted = [False if (len(x) < 700 or len(x) > 800) else True for x in leads]\n",
    "        if False in correct_extracted:\n",
    "            leads1 = self.collectLeads(pg1, 8, 19)\n",
    "            leads2 = self.collectLeads(pg2, 8, 19)\n",
    "            leads = leads1 + leads2\n",
    "\n",
    "        correct_extracted = [False if (len(x) < 700 or len(x) > 800) else True for x in leads]\n",
    "        if False in correct_extracted:\n",
    "            leads1 = self.collectLeads(pg1, 9, 20)\n",
    "            leads2 = self.collectLeads(pg2, 9, 20)\n",
    "            leads = leads1 + leads2\n",
    "\n",
    "        correct_extracted = [False if (len(x) < 700 or len(x) > 800) else True for x in leads]\n",
    "        if False in correct_extracted:\n",
    "            raise Exception('Special case: External limits for the extraction may not be correct!')\n",
    "\n",
    "        return leads"
   ]
  }
 ],
 "metadata": {
  "kernelspec": {
   "display_name": "ecg_pipeline",
   "language": "python",
   "name": "python3"
  },
  "language_info": {
   "codemirror_mode": {
    "name": "ipython",
    "version": 3
   },
   "file_extension": ".py",
   "mimetype": "text/x-python",
   "name": "python",
   "nbconvert_exporter": "python",
   "pygments_lexer": "ipython3",
   "version": "3.8.19"
  }
 },
 "nbformat": 4,
 "nbformat_minor": 2
}
