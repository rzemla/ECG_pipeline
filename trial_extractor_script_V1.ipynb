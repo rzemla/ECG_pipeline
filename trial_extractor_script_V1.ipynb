{
 "cells": [
  {
   "cell_type": "code",
   "execution_count": 1,
   "metadata": {},
   "outputs": [],
   "source": [
    "import pandas as pd\n",
    "import PyPDF2\n",
    "import numpy as np\n",
    "import math\n",
    "from extractors.abstract_extractor import AbstractExractor\n",
    "from utils.data.visualisation import visualiseIndividualfromDF, visualiseIndividualinMPL\n",
    "from utils.extract_utils.extract_utils import rotate_origin_only, move_along_the_axis, scale_values_based_on_eich_peak, \\\n",
    "    create_measurement_points, adjust_leads_baseline, preprocess_page_content, extract_graphics_string\n",
    "from utils.misc.datastructure import perform_shape_switch\n",
    "from tools.extraction_tools import extract_PDF_raw, extract_leads_numeric\n",
    "import logging\n",
    "from tqdm import tqdm\n",
    "import os\n",
    "import matplotlib.pyplot as plt"
   ]
  },
  {
   "cell_type": "markdown",
   "metadata": {},
   "source": []
  },
  {
   "cell_type": "code",
   "execution_count": 3,
   "metadata": {},
   "outputs": [
    {
     "name": "stderr",
     "output_type": "stream",
     "text": [
      "PdfReadWarning: Superfluous whitespace found in object header b'5' b'0' [pdf.py:1665]\n"
     ]
    }
   ],
   "source": [
    "# reference value for the calibration jag\n",
    "cal_ref = 1000\n",
    "\n",
    "# extracted height for the calibration jag in PDF (extract pixel height from PDF)\n",
    "cal_height = 28.34800000000001\n",
    "\n",
    "# factor for scaling\n",
    "gamma = cal_ref / cal_height\n",
    "\n",
    "# name of the leads\n",
    "lead_names_short = ['I', 'II', 'III', 'aVR', 'aVL', 'aVF', 'V1', 'V2', 'V3', 'V4', 'V5', 'V6']\n",
    "lead_names_long = ['V1','II',\"V5\"]\n",
    "\n",
    "#source data\n",
    "path_source = os.getcwd()\n",
    "#data_source = 'data_test\\\\EKG_131515-20_0.pdf'\n",
    "data_source = 'data_test\\\\EKG_131515-33_0.pdf'\n",
    "filename = os.path.join(path_source, data_source)\n",
    "\n",
    "#Extract raw PDF data from source file\n",
    "pdf_object = extract_PDF_raw(filename)\n",
    "\n",
    "\n",
    "#define dict with index ranges for graphics object corresponding to leads/cal marker\n",
    "range_list = {\n",
    "    #range of lead extraction (short leads)\n",
    "    'start_idx': 412,\n",
    "    'end_idx'  : 423,\n",
    "    #range of lead extraction (long leads)\n",
    "    'start_idx_long': 427,\n",
    "    'end_idx_long': 429,\n",
    "    #calibration marker index\n",
    "    'cal_idx' : 424\n",
    "}\n",
    "\n",
    "#Extract numeric x,y points for each lead \n",
    "lead_numeric = extract_leads_numeric(range_list,pdf_object)\n",
    "\n",
    "\n",
    "#411 - calibration marker\n",
    "#412 - I short\n",
    "#413 - II short\n",
    "#414 - III short\n",
    "#415 - aVR short\n",
    "#416 - aVL short\n",
    "#417 - aVF short\n",
    "#418 - V1 short\n",
    "#419 - V2 short\n",
    "#420 - V3 short\n",
    "#421 - V4 short\n",
    "#422 - V5 short\n",
    "#423 - V6 short\n",
    "#424 - calibration marker\n",
    "#425 - calibration marker\n",
    "#426 - calibration marker\n",
    "#427 - V1 long\n",
    "#428 - II long\n",
    "#429 - V5 long\n",
    "\n",
    "#save np array as CSV\n",
    "#np.savetxt(\"v5_exp.csv\", v5_xy_arr, delimiter=\",\")\n",
    "\n",
    "\n"
   ]
  },
  {
   "cell_type": "code",
   "execution_count": 9,
   "metadata": {},
   "outputs": [],
   "source": [
    "lead_objects = []\n",
    "#extract short-time lead objects (string of points)\n",
    "for x in range(start_idx, end_idx+1):\n",
    "    lead_objects.append(pdf_object[x])\n",
    "\n",
    "#extract long-time lead objects (string of points indices)\n",
    "for x in range(start_idx_long, end_idx_long+1):\n",
    "    lead_objects.append(pdf_object[x])\n",
    "\n",
    "#extract calibration marker\n",
    "lead_objects.append(pdf_object[cal_idx])\n",
    "\n",
    "#remove m(mark?) and l (line?) markers in PDF in each lead object and split newlines\n",
    "for i,obj in enumerate(lead_objects):\n",
    "    lead_objects[i] = obj.replace(' l', '').replace(' m', '').split('\\n')\n",
    "\n",
    "#select only indices with numeric strings (sample points)\n",
    "for i, obj in enumerate(lead_objects):\n",
    "    #set advance index flag to 0 by default\n",
    "    adv_idx = 0 \n",
    "    for j in obj:\n",
    "        if 'BT' in j:\n",
    "            #advance starting idx by 1 flag\n",
    "            adv_idx = 1\n",
    "    #extract the indices according to the flag advancing by 1 if 'BT' present\n",
    "    if adv_idx == 1:\n",
    "        lead_objects[i] = lead_objects[i][2:-1]\n",
    "    else:\n",
    "        lead_objects[i] = lead_objects[i][1:-1]\n",
    "\n",
    "lead_numeric = []    \n",
    "#convert string trace sample coordinates into int x,y coordinates\n",
    "for x, trace in enumerate(lead_objects):\n",
    "    tmp_xy_col = []\n",
    "    for r in trace:\n",
    "        #get coordinates as string\n",
    "        tmp_xy = r.split(' ')\n",
    "        #cast string x,y coordinates as int\n",
    "        tmp_xy = [int(i) for i in tmp_xy]\n",
    "        #append to trace array\n",
    "        tmp_xy_col.append(tmp_xy) \n",
    "    #covert int coordinates to numpy array format\n",
    "    lead_numeric.append(np.array(tmp_xy_col))"
   ]
  },
  {
   "cell_type": "markdown",
   "metadata": {},
   "source": [
    "Plot traces for each lead"
   ]
  },
  {
   "cell_type": "code",
   "execution_count": null,
   "metadata": {},
   "outputs": [],
   "source": [
    "#Plot x,y traces of each lead in discovery run\n",
    "fig, ax = plt.subplots()\n",
    "\n",
    "lead_idx = 3\n",
    "ax.plot(lead_numeric[lead_idx][:,0], lead_numeric[lead_idx][:,1], markeredgewidth=2)\n",
    "plt.show()\n",
    "\n",
    "#ax.set(xlim=(0, 8), xticks=np.arange(1, 8),\n",
    "#       ylim=(0, 8), yticks=np.arange(1, 8))"
   ]
  }
 ],
 "metadata": {
  "kernelspec": {
   "display_name": "ecg_pipeline",
   "language": "python",
   "name": "python3"
  },
  "language_info": {
   "codemirror_mode": {
    "name": "ipython",
    "version": 3
   },
   "file_extension": ".py",
   "mimetype": "text/x-python",
   "name": "python",
   "nbconvert_exporter": "python",
   "pygments_lexer": "ipython3",
   "version": "3.8.19"
  }
 },
 "nbformat": 4,
 "nbformat_minor": 2
}
