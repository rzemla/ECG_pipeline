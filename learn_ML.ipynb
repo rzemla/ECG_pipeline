{
 "cells": [
  {
   "cell_type": "code",
   "execution_count": 7,
   "metadata": {},
   "outputs": [
    {
     "ename": "ModuleNotFoundError",
     "evalue": "No module named 'torchsummary'",
     "output_type": "error",
     "traceback": [
      "\u001b[1;31m---------------------------------------------------------------------------\u001b[0m",
      "\u001b[1;31mModuleNotFoundError\u001b[0m                       Traceback (most recent call last)",
      "Cell \u001b[1;32mIn[7], line 5\u001b[0m\n\u001b[0;32m      3\u001b[0m \u001b[38;5;28;01mimport\u001b[39;00m \u001b[38;5;21;01mtorch\u001b[39;00m\u001b[38;5;21;01m.\u001b[39;00m\u001b[38;5;21;01mnn\u001b[39;00m\u001b[38;5;21;01m.\u001b[39;00m\u001b[38;5;21;01mfunctional\u001b[39;00m \u001b[38;5;28;01mas\u001b[39;00m \u001b[38;5;21;01mF\u001b[39;00m\n\u001b[0;32m      4\u001b[0m \u001b[38;5;28;01mfrom\u001b[39;00m \u001b[38;5;21;01mtorch\u001b[39;00m\u001b[38;5;21;01m.\u001b[39;00m\u001b[38;5;21;01moptim\u001b[39;00m \u001b[38;5;28;01mimport\u001b[39;00m SGD\n\u001b[1;32m----> 5\u001b[0m \u001b[38;5;28;01mfrom\u001b[39;00m \u001b[38;5;21;01mtorchsummary\u001b[39;00m \u001b[38;5;28;01mimport\u001b[39;00m summary\n\u001b[0;32m      7\u001b[0m \u001b[38;5;28;01mimport\u001b[39;00m \u001b[38;5;21;01mmatplotlib\u001b[39;00m\u001b[38;5;21;01m.\u001b[39;00m\u001b[38;5;21;01mpyplot\u001b[39;00m \u001b[38;5;28;01mas\u001b[39;00m \u001b[38;5;21;01mplt\u001b[39;00m\n\u001b[0;32m      8\u001b[0m \u001b[38;5;28;01mimport\u001b[39;00m \u001b[38;5;21;01mseaborn\u001b[39;00m \u001b[38;5;28;01mas\u001b[39;00m \u001b[38;5;21;01msns\u001b[39;00m\n",
      "\u001b[1;31mModuleNotFoundError\u001b[0m: No module named 'torchsummary'"
     ]
    }
   ],
   "source": [
    ".op0-/\n",
    "\n",
    "import matplotlib.pyplot as plt\n",
    "import seaborn as sns\n",
    "\n",
    "import keras"
   ]
  },
  {
   "cell_type": "code",
   "execution_count": 3,
   "metadata": {},
   "outputs": [
    {
     "ename": "NameError",
     "evalue": "name 'torch' is not defined",
     "output_type": "error",
     "traceback": [
      "\u001b[1;31m---------------------------------------------------------------------------\u001b[0m",
      "\u001b[1;31mNameError\u001b[0m                                 Traceback (most recent call last)",
      "Cell \u001b[1;32mIn[3], line 2\u001b[0m\n\u001b[0;32m      1\u001b[0m \u001b[38;5;66;03m# Set GPU vs CPU for training - bypass for now\u001b[39;00m\n\u001b[1;32m----> 2\u001b[0m \u001b[38;5;28;01mif\u001b[39;00m \u001b[43mtorch\u001b[49m\u001b[38;5;241m.\u001b[39mcuda\u001b[38;5;241m.\u001b[39mis_available():\n\u001b[0;32m      3\u001b[0m     \u001b[38;5;28mprint\u001b[39m(\u001b[38;5;124mf\u001b[39m\u001b[38;5;124m\"\u001b[39m\u001b[38;5;124mGPU: \u001b[39m\u001b[38;5;132;01m{\u001b[39;00mtorch\u001b[38;5;241m.\u001b[39mcuda\u001b[38;5;241m.\u001b[39mget_device_name(\u001b[38;5;241m0\u001b[39m)\u001b[38;5;132;01m}\u001b[39;00m\u001b[38;5;124m is avaialble.\u001b[39m\u001b[38;5;124m\"\u001b[39m)\n\u001b[0;32m      4\u001b[0m     torch\u001b[38;5;241m.\u001b[39mset_default_device(\u001b[38;5;124m\"\u001b[39m\u001b[38;5;124mcuda\u001b[39m\u001b[38;5;124m\"\u001b[39m)\n",
      "\u001b[1;31mNameError\u001b[0m: name 'torch' is not defined"
     ]
    }
   ],
   "source": [
    "# Set GPU vs CPU for training - bypass for now\n",
    "if torch.cuda.is_available():\n",
    "    print(f\"GPU: {torch.cuda.get_device_name(0)} is avaialble.\")\n",
    "    torch.set_default_device(\"cuda\")\n",
    "else:\n",
    "    print(\"No GPU available. Training will run on CPU.\")\n",
    "\n",
    "# set the target device to run the network\n",
    "device = \"cuda\" if torch.cuda.is_available() else \"cpu\"\n",
    "\n",
    "# set default to CPU for now\n",
    "torch.set_default_device(\"cpu\")\n",
    "\n",
    "# set default type of tensor\n",
    "torch.set_default_dtype(torch.float64)"
   ]
  },
  {
   "cell_type": "code",
   "execution_count": 51,
   "metadata": {},
   "outputs": [
    {
     "name": "stdout",
     "output_type": "stream",
     "text": [
      "torch.float64\n"
     ]
    }
   ],
   "source": [
    "class BasicNN_train(nn.Module):\n",
    "\n",
    "    def __init__(self):\n",
    "\n",
    "        super().__init__()\n",
    "\n",
    "        self.w00 = nn.Parameter(torch.tensor(1.7), requires_grad=False)\n",
    "        self.b00 = nn.Parameter(torch.tensor(-0.85), requires_grad=False)\n",
    "        self.w01 = nn.Parameter(torch.tensor(-40.8), requires_grad=False)\n",
    "\n",
    "        self.w10 = nn.Parameter(torch.tensor(12.6), requires_grad=False)\n",
    "        self.b10 = nn.Parameter(torch.tensor(0.0), requires_grad=False)\n",
    "        self.w11 = nn.Parameter(torch.tensor(2.7), requires_grad=False)\n",
    "\n",
    "        self.final_bias = nn.Parameter(torch.tensor(0.0), requires_grad=True)\n",
    "\n",
    "    def forward(self, input):\n",
    "\n",
    "        input_to_top_relu = input * self.w00 + self.b00\n",
    "        top_relu_output = F.relu(input_to_top_relu)\n",
    "        scaled_top_relu_output = top_relu_output * self.w01\n",
    "\n",
    "        input_to_bottom_relu = input * self.w10 + self.b10\n",
    "        bottom_relu_output = F.relu(input_to_bottom_relu)\n",
    "        scaled_bottom__relu_output = bottom_relu_output * self.w11\n",
    "\n",
    "        input_to_final_relu = (\n",
    "            scaled_top_relu_output + scaled_bottom__relu_output + self.final_bias\n",
    "        )\n",
    "\n",
    "        output = F.relu(input_to_final_relu)\n",
    "\n",
    "        return output\n",
    "\n",
    "\n",
    "input_doses = torch.linspace(start=0, end=1, steps=11)\n",
    "print(input_doses.dtype)\n",
    "\n",
    "model = BasicNN_train()\n",
    "\n",
    "output_values = model(input_doses)\n",
    "\n",
    "#training in/outs\n",
    "inputs = torch.tensor([0.,0.5,1.])\n",
    "labels = torch.tensor([0.,1.,0.])\n",
    "\n"
   ]
  },
  {
   "cell_type": "code",
   "execution_count": 52,
   "metadata": {},
   "outputs": [
    {
     "name": "stdout",
     "output_type": "stream",
     "text": [
      "Final bias, before optimization: tensor(0.)\n",
      "\n",
      "Step: 0 Final Bias: tensor(-3.2020)\n",
      "\n",
      "Step: 1 Final Bias: tensor(-5.7636)\n",
      "\n",
      "Step: 2 Final Bias: tensor(-7.8129)\n",
      "\n",
      "Step: 3 Final Bias: tensor(-9.4523)\n",
      "\n",
      "Step: 4 Final Bias: tensor(-10.7638)\n",
      "\n",
      "Step: 5 Final Bias: tensor(-11.8131)\n",
      "\n",
      "Step: 6 Final Bias: tensor(-12.6525)\n",
      "\n",
      "Step: 7 Final Bias: tensor(-13.3240)\n",
      "\n",
      "Step: 8 Final Bias: tensor(-13.8612)\n",
      "\n",
      "Step: 9 Final Bias: tensor(-14.2909)\n",
      "\n",
      "Step: 10 Final Bias: tensor(-14.6348)\n",
      "\n",
      "Step: 11 Final Bias: tensor(-14.9098)\n",
      "\n",
      "Step: 12 Final Bias: tensor(-15.1298)\n",
      "\n",
      "Step: 13 Final Bias: tensor(-15.3059)\n",
      "\n",
      "Step: 14 Final Bias: tensor(-15.4467)\n",
      "\n",
      "Step: 15 Final Bias: tensor(-15.5594)\n",
      "\n",
      "Step: 16 Final Bias: tensor(-15.6495)\n",
      "\n",
      "Step: 17 Final Bias: tensor(-15.7216)\n",
      "\n",
      "Step: 18 Final Bias: tensor(-15.7793)\n",
      "\n",
      "Step: 19 Final Bias: tensor(-15.8254)\n",
      "\n",
      "Step: 20 Final Bias: tensor(-15.8623)\n",
      "\n",
      "Step: 21 Final Bias: tensor(-15.8919)\n",
      "\n",
      "Step: 22 Final Bias: tensor(-15.9155)\n",
      "\n",
      "Step: 23 Final Bias: tensor(-15.9344)\n",
      "\n",
      "Step: 24 Final Bias: tensor(-15.9495)\n",
      "\n",
      "Step: 25 Final Bias: tensor(-15.9616)\n",
      "\n",
      "Step: 26 Final Bias: tensor(-15.9713)\n",
      "\n",
      "Step: 27 Final Bias: tensor(-15.9790)\n",
      "\n",
      "Step: 28 Final Bias: tensor(-15.9852)\n",
      "\n",
      "Step: 29 Final Bias: tensor(-15.9902)\n",
      "\n",
      "Step: 30 Final Bias: tensor(-15.9941)\n",
      "\n",
      "Step: 31 Final Bias: tensor(-15.9973)\n",
      "\n",
      "Step: 32 Final Bias: tensor(-15.9999)\n",
      "\n",
      "Step: 33 Final Bias: tensor(-16.0019)\n",
      "\n",
      "Num steps: 34\n",
      "Total loss: 6.590248323170906e-05\n",
      "Final biasm after optimization: tensor(-16.0019)\n"
     ]
    }
   ],
   "source": [
    "optimizer = SGD(model.parameters(), lr=0.1)\n",
    "\n",
    "print(\"Final bias, before optimization: \" + str(model.final_bias.data) + \"\\n\")\n",
    "\n",
    "for epoch in range(100):\n",
    "\n",
    "    total_loss = 0\n",
    "\n",
    "    for iteration in range(len(inputs)):\n",
    "\n",
    "        input_i = inputs[iteration]\n",
    "        label_i = labels[iteration]\n",
    "\n",
    "        output_i = model(input_i)\n",
    "\n",
    "        loss = (output_i - label_i) ** 2\n",
    "\n",
    "        loss.backward()\n",
    "\n",
    "        total_loss += float(loss)\n",
    "\n",
    "    if total_loss < 0.0001:\n",
    "        print(\"Num steps: \" + str(epoch))\n",
    "        print(\"Total loss: \" + str(total_loss))\n",
    "        break\n",
    "\n",
    "    optimizer.step()\n",
    "    optimizer.zero_grad()\n",
    "\n",
    "    print(\"Step: \" + str(epoch) + \" Final Bias: \" + str(model.final_bias.data) + \"\\n\")\n",
    "    \n",
    "\n",
    "\n",
    "print(\"Final biasm after optimization: \" + str(model.final_bias.data))"
   ]
  },
  {
   "cell_type": "code",
   "execution_count": 53,
   "metadata": {},
   "outputs": [
    {
     "data": {
      "text/plain": [
       "Text(0.5, 0, 'Dose')"
      ]
     },
     "execution_count": 53,
     "metadata": {},
     "output_type": "execute_result"
    },
    {
     "data": {
      "image/png": "[encoded data removed]",
      "text/plain": [
       "<Figure size 640x480 with 1 Axes>"
      ]
     },
     "metadata": {},
     "output_type": "display_data"
    }
   ],
   "source": [
    "sns.set(style=\"whitegrid\")\n",
    "\n",
    "output_values = model(input_doses)\n",
    "\n",
    "sns.lineplot(x=input_doses, y=output_values.detach(), color=\"green\", linewidth=2.5)\n",
    "\n",
    "plt.ylabel(\"Effectiveness\")\n",
    "plt.xlabel(\"Dose\")"
   ]
  },
  {
   "cell_type": "code",
   "execution_count": null,
   "metadata": {},
   "outputs": [],
   "source": []
  }
 ],
 "metadata": {
  "kernelspec": {
   "display_name": "ecg_pipeline",
   "language": "python",
   "name": "python3"
  },
  "language_info": {
   "codemirror_mode": {
    "name": "ipython",
    "version": 3
   },
   "file_extension": ".py",
   "mimetype": "text/x-python",
   "name": "python",
   "nbconvert_exporter": "python",
   "pygments_lexer": "ipython3",
   "version": "3.8.20"
  }
 },
 "nbformat": 4,
 "nbformat_minor": 2
}
